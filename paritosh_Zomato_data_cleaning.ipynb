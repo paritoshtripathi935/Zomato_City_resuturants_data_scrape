{
 "cells": [
  {
   "cell_type": "markdown",
   "id": "ba829e57",
   "metadata": {},
   "source": [
    "# Data Cleaning"
   ]
  },
  {
   "cell_type": "code",
   "execution_count": 1,
   "id": "33182b01",
   "metadata": {},
   "outputs": [],
   "source": [
    "import pandas as pd\n",
    "import numpy as np\n",
    "import seaborn as sns\n",
    "import matplotlib.pyplot as plt"
   ]
  },
  {
   "cell_type": "code",
   "execution_count": 2,
   "id": "590102c7",
   "metadata": {},
   "outputs": [],
   "source": [
    "df = pd.read_json(\"/home/paritosh/Downloads/Intern/Paritosh_Bangalore_newZ_9.json\")"
   ]
  },
  {
   "cell_type": "code",
   "execution_count": 3,
   "id": "737c219c",
   "metadata": {},
   "outputs": [
    {
     "data": {
      "text/plain": [
       "Index(['Unnamed: 0', 'links', 'names', 'ratings', 'price for one', 'crusine',\n",
       "       'Veg_menu', 'Non_veg_menu', 'Delivery_Reviews', 'No_Delivery_Reviews'],\n",
       "      dtype='object')"
      ]
     },
     "execution_count": 3,
     "metadata": {},
     "output_type": "execute_result"
    }
   ],
   "source": [
    "df.columns"
   ]
  },
  {
   "cell_type": "markdown",
   "id": "ed645934",
   "metadata": {},
   "source": [
    "### removing extra from strings"
   ]
  },
  {
   "cell_type": "code",
   "execution_count": 4,
   "id": "03f1a9a8",
   "metadata": {},
   "outputs": [],
   "source": [
    "df.drop(['Unnamed: 0'], axis = 1,inplace=True)"
   ]
  },
  {
   "cell_type": "code",
   "execution_count": 5,
   "id": "31e08059",
   "metadata": {},
   "outputs": [
    {
     "name": "stderr",
     "output_type": "stream",
     "text": [
      "<ipython-input-5-2c4d99ddd195>:1: FutureWarning: The default value of regex will change from True to False in a future version.\n",
      "  df['price for one'] = df['price for one'].str.replace(r'\\D', '')\n"
     ]
    }
   ],
   "source": [
    "df['price for one'] = df['price for one'].str.replace(r'\\D', '')"
   ]
  },
  {
   "cell_type": "code",
   "execution_count": 6,
   "id": "e2dba966",
   "metadata": {},
   "outputs": [
    {
     "data": {
      "text/plain": [
       "0      200\n",
       "1      200\n",
       "2      200\n",
       "3      200\n",
       "4      200\n",
       "      ... \n",
       "929    100\n",
       "930    100\n",
       "931    100\n",
       "932    100\n",
       "933    100\n",
       "Name: price for one, Length: 934, dtype: int64"
      ]
     },
     "execution_count": 6,
     "metadata": {},
     "output_type": "execute_result"
    }
   ],
   "source": [
    "df['price for one'].astype(str).astype(int)"
   ]
  },
  {
   "cell_type": "code",
   "execution_count": 7,
   "id": "cff512d8",
   "metadata": {},
   "outputs": [],
   "source": [
    "df['ratings'] = df['ratings'].replace(r'-', np.NaN, regex=True)"
   ]
  },
  {
   "cell_type": "code",
   "execution_count": 8,
   "id": "184292e9",
   "metadata": {},
   "outputs": [],
   "source": [
    "df['ratings'] = df['ratings'].replace(r'New', np.NaN, regex=True)"
   ]
  },
  {
   "cell_type": "code",
   "execution_count": 9,
   "id": "56c9bdc7",
   "metadata": {},
   "outputs": [
    {
     "data": {
      "text/plain": [
       "0      3.9\n",
       "1      3.8\n",
       "2      4.4\n",
       "3      4.2\n",
       "4      4.0\n",
       "      ... \n",
       "929    4.3\n",
       "930    4.0\n",
       "931    4.0\n",
       "932    4.3\n",
       "933    3.9\n",
       "Name: ratings, Length: 934, dtype: float64"
      ]
     },
     "execution_count": 9,
     "metadata": {},
     "output_type": "execute_result"
    }
   ],
   "source": [
    "df['ratings'].astype(str).astype(float)"
   ]
  },
  {
   "cell_type": "code",
   "execution_count": 10,
   "id": "c441fcc1",
   "metadata": {},
   "outputs": [
    {
     "data": {
      "text/plain": [
       "Index(['links', 'names', 'ratings', 'price for one', 'crusine', 'Veg_menu',\n",
       "       'Non_veg_menu', 'Delivery_Reviews', 'No_Delivery_Reviews'],\n",
       "      dtype='object')"
      ]
     },
     "execution_count": 10,
     "metadata": {},
     "output_type": "execute_result"
    }
   ],
   "source": [
    "df.columns"
   ]
  },
  {
   "cell_type": "markdown",
   "id": "7d381682",
   "metadata": {},
   "source": [
    "# removing duplicates"
   ]
  },
  {
   "cell_type": "code",
   "execution_count": 11,
   "id": "184c6724",
   "metadata": {},
   "outputs": [],
   "source": [
    "duplicate = df[df.duplicated(['names', 'crusine'])]"
   ]
  },
  {
   "cell_type": "code",
   "execution_count": 12,
   "id": "ba4a4306",
   "metadata": {},
   "outputs": [
    {
     "name": "stdout",
     "output_type": "stream",
     "text": [
      "Int64Index([355, 437, 511, 597, 625, 702, 841, 846, 876, 880, 899, 912, 914], dtype='int64')\n"
     ]
    }
   ],
   "source": [
    "index_names = duplicate.index\n",
    "print(index_names)"
   ]
  },
  {
   "cell_type": "code",
   "execution_count": 13,
   "id": "ec8fedfd",
   "metadata": {},
   "outputs": [],
   "source": [
    "df.drop(index_names, inplace = True)"
   ]
  },
  {
   "cell_type": "code",
   "execution_count": 14,
   "id": "cd85e1a0",
   "metadata": {},
   "outputs": [
    {
     "name": "stdout",
     "output_type": "stream",
     "text": [
      "Empty DataFrame\n",
      "Columns: [links, names, ratings, price for one, crusine, Veg_menu, Non_veg_menu, Delivery_Reviews, No_Delivery_Reviews]\n",
      "Index: []\n"
     ]
    }
   ],
   "source": [
    "duplicates = df[df.duplicated(['names', 'crusine'])]  # to chech dupicates have been removed\n",
    "print(duplicates)"
   ]
  },
  {
   "cell_type": "code",
   "execution_count": 15,
   "id": "03f508b1",
   "metadata": {},
   "outputs": [],
   "source": [
    "df.reset_index(inplace = True, drop = True)"
   ]
  },
  {
   "cell_type": "markdown",
   "id": "9082e65e",
   "metadata": {},
   "source": [
    "## converting crusines into list"
   ]
  },
  {
   "cell_type": "code",
   "execution_count": 16,
   "id": "2f0072ca",
   "metadata": {},
   "outputs": [
    {
     "name": "stdout",
     "output_type": "stream",
     "text": [
      "                              crusine\n",
      "0      North Indian, Chinese, Biryani\n",
      "1  Continental, North Indian, Biryani\n"
     ]
    }
   ],
   "source": [
    "list_1 =  df.iloc[:2,-5:-4]\n",
    "print(list_1)"
   ]
  },
  {
   "cell_type": "code",
   "execution_count": 17,
   "id": "0b1d4ef3",
   "metadata": {},
   "outputs": [],
   "source": [
    "for i in range(len(df['crusine'])+1):\n",
    "    list_of_crusines = df.iloc[:i,-5:-4].values.tolist()\n",
    "    \n",
    "    "
   ]
  },
  {
   "cell_type": "code",
   "execution_count": 18,
   "id": "068b3eeb",
   "metadata": {},
   "outputs": [],
   "source": [
    "df['crusines'] = list_of_crusines"
   ]
  },
  {
   "cell_type": "code",
   "execution_count": 19,
   "id": "eedbd265",
   "metadata": {},
   "outputs": [],
   "source": [
    "df.drop(['crusine'], axis = 1,inplace=True)"
   ]
  },
  {
   "cell_type": "code",
   "execution_count": 20,
   "id": "cb4f73dc",
   "metadata": {},
   "outputs": [],
   "source": [
    "mid = df['crusines']\n",
    "df.drop(labels=['crusines'], axis=1, inplace = True)\n",
    "df.insert(4, 'crusines', mid)"
   ]
  },
  {
   "cell_type": "code",
   "execution_count": 21,
   "id": "0d44329d",
   "metadata": {},
   "outputs": [],
   "source": [
    "df.reset_index(inplace = True, drop = True)"
   ]
  },
  {
   "cell_type": "markdown",
   "id": "57b1d4bb",
   "metadata": {},
   "source": [
    "## Removing K "
   ]
  },
  {
   "cell_type": "code",
   "execution_count": 22,
   "id": "5103405d",
   "metadata": {},
   "outputs": [],
   "source": [
    "#df['No_Delivery_Reviews'].replace(r'-', np.nan, inplace=True)"
   ]
  },
  {
   "cell_type": "code",
   "execution_count": 23,
   "id": "bd320a2c",
   "metadata": {},
   "outputs": [],
   "source": [
    "df['Delivery_Reviews'].replace(0, np.nan, inplace=True)"
   ]
  },
  {
   "cell_type": "code",
   "execution_count": 24,
   "id": "037f25a7",
   "metadata": {},
   "outputs": [],
   "source": [
    "df[\"Indexes\"] = df[\"No_Delivery_Reviews\"].str.contains('K')"
   ]
  },
  {
   "cell_type": "code",
   "execution_count": 25,
   "id": "21a91cc5",
   "metadata": {},
   "outputs": [
    {
     "name": "stdout",
     "output_type": "stream",
     "text": [
      "0      False\n",
      "1       True\n",
      "2      False\n",
      "3       True\n",
      "4      False\n",
      "       ...  \n",
      "916    False\n",
      "917    False\n",
      "918    False\n",
      "919    False\n",
      "920    False\n",
      "Name: Indexes, Length: 921, dtype: object\n"
     ]
    }
   ],
   "source": [
    "fkk = df[\"Indexes\"].index\n",
    "print(df[\"Indexes\"])"
   ]
  },
  {
   "cell_type": "code",
   "execution_count": 26,
   "id": "9ecba088",
   "metadata": {},
   "outputs": [
    {
     "data": {
      "text/plain": [
       "True"
      ]
     },
     "execution_count": 26,
     "metadata": {},
     "output_type": "execute_result"
    }
   ],
   "source": [
    "df['Indexes'][1]"
   ]
  },
  {
   "cell_type": "code",
   "execution_count": 27,
   "id": "45a51864",
   "metadata": {},
   "outputs": [
    {
     "name": "stdout",
     "output_type": "stream",
     "text": [
      "1\n",
      "3\n",
      "5\n",
      "7\n",
      "15\n",
      "22\n",
      "24\n",
      "30\n",
      "31\n",
      "32\n",
      "53\n",
      "72\n",
      "73\n",
      "76\n",
      "103\n",
      "104\n",
      "105\n",
      "106\n",
      "107\n",
      "121\n",
      "213\n",
      "215\n",
      "216\n",
      "224\n",
      "242\n",
      "291\n",
      "294\n",
      "298\n",
      "435\n",
      "443\n",
      "605\n"
     ]
    }
   ],
   "source": [
    "index = []\n",
    "for i in range(0,len(df['Indexes'])):\n",
    "    if df['Indexes'][i] == True:\n",
    "        index.append(i)\n",
    "        print(i)"
   ]
  },
  {
   "cell_type": "code",
   "execution_count": 28,
   "id": "bb8b06e4",
   "metadata": {},
   "outputs": [
    {
     "name": "stdout",
     "output_type": "stream",
     "text": [
      "1        16K\n",
      "3      14.2K\n",
      "5      16.6K\n",
      "7      12.7K\n",
      "15     19.5K\n",
      "22     14.3K\n",
      "24     31.7K\n",
      "30     33.1K\n",
      "31     12.8K\n",
      "32       27K\n",
      "53     29.7K\n",
      "72     15.6K\n",
      "73     17.4K\n",
      "76     15.1K\n",
      "103    14.4K\n",
      "104    27.8K\n",
      "105      12K\n",
      "106    13.5K\n",
      "107    17.4K\n",
      "121      14K\n",
      "213    15.9K\n",
      "215    20.2K\n",
      "216      11K\n",
      "224    11.2K\n",
      "242    14.8K\n",
      "291    18.8K\n",
      "294    13.2K\n",
      "298    19.2K\n",
      "435    10.7K\n",
      "443    15.2K\n",
      "605    20.3K\n",
      "Name: No_Delivery_Reviews, dtype: object\n"
     ]
    }
   ],
   "source": [
    "a = df.loc[index,'No_Delivery_Reviews']\n",
    "print(a)"
   ]
  },
  {
   "cell_type": "code",
   "execution_count": 40,
   "id": "44b1c279",
   "metadata": {},
   "outputs": [],
   "source": [
    "df.Val = df['No_Delivery_Reviews']\n",
    "try:\n",
    "    df.Val = df.Val.replace(r'[K]+$', '', inplace=True,regex=True).astype(float) * \\\n",
    "              df.Val.str.extract(r'[\\d\\.]+([K]+)', expand=False).fillna(1).replace(['K','M'], [10**3]).astype(int)\n",
    "except AttributeError:\n",
    "    pass"
   ]
  },
  {
   "cell_type": "code",
   "execution_count": 41,
   "id": "54729d39",
   "metadata": {},
   "outputs": [
    {
     "data": {
      "text/plain": [
       "0         29\n",
       "1         16\n",
       "2      1,830\n",
       "3       14.2\n",
       "4      1,918\n",
       "       ...  \n",
       "916       98\n",
       "917    3,615\n",
       "918      575\n",
       "919      255\n",
       "920       60\n",
       "Name: No_Delivery_Reviews, Length: 921, dtype: object"
      ]
     },
     "execution_count": 41,
     "metadata": {},
     "output_type": "execute_result"
    }
   ],
   "source": [
    "df['No_Delivery_Reviews']"
   ]
  },
  {
   "cell_type": "code",
   "execution_count": 31,
   "id": "6e858c07",
   "metadata": {},
   "outputs": [],
   "source": [
    "df.reset_index(inplace = True, drop = True)"
   ]
  },
  {
   "cell_type": "markdown",
   "id": "41d9735d",
   "metadata": {},
   "source": [
    "# removing empty menu"
   ]
  },
  {
   "cell_type": "code",
   "execution_count": 32,
   "id": "f8507937",
   "metadata": {},
   "outputs": [],
   "source": [
    "dict_Veg_menu = df[\"Veg_menu\"]\n",
    "empty_Veg_menu = []\n",
    "for i in range(len(df['Veg_menu'])):\n",
    "    try:\n",
    "        del dict_Veg_menu[i]['Recommended']\n",
    "    except KeyError:\n",
    "        empty_Veg_menu.append(i)\n",
    "        pass"
   ]
  },
  {
   "cell_type": "code",
   "execution_count": 33,
   "id": "032ec0b7",
   "metadata": {},
   "outputs": [],
   "source": [
    "dict_Non_veg_menu = df[\"Non_veg_menu\"]\n",
    "empty_index = []\n",
    "for i in range(len(df['Non_veg_menu'])):\n",
    "    try:\n",
    "        del dict_Non_veg_menu[i]['Recommended']\n",
    "    except KeyError:\n",
    "        empty_index.append(i)\n",
    "        pass"
   ]
  },
  {
   "cell_type": "code",
   "execution_count": 34,
   "id": "3ce3355d",
   "metadata": {},
   "outputs": [],
   "source": [
    "df.drop(df.index[empty_index], axis=0,inplace=True)"
   ]
  },
  {
   "cell_type": "code",
   "execution_count": 35,
   "id": "9f889dba",
   "metadata": {},
   "outputs": [],
   "source": [
    "df.reset_index(inplace = True, drop = True)"
   ]
  },
  {
   "cell_type": "markdown",
   "id": "91ef9dd1",
   "metadata": {},
   "source": [
    "## Exporting"
   ]
  },
  {
   "cell_type": "code",
   "execution_count": 42,
   "id": "1af696b5",
   "metadata": {},
   "outputs": [],
   "source": [
    "df.to_csv('final.json')"
   ]
  },
  {
   "cell_type": "code",
   "execution_count": 44,
   "id": "4af26429",
   "metadata": {},
   "outputs": [
    {
     "name": "stdout",
     "output_type": "stream",
     "text": [
      "<class 'pandas.core.frame.DataFrame'>\n",
      "RangeIndex: 921 entries, 0 to 920\n",
      "Data columns (total 10 columns):\n",
      " #   Column               Non-Null Count  Dtype \n",
      "---  ------               --------------  ----- \n",
      " 0   links                921 non-null    object\n",
      " 1   names                921 non-null    object\n",
      " 2   ratings              801 non-null    object\n",
      " 3   price for one        921 non-null    object\n",
      " 4   crusines             921 non-null    object\n",
      " 5   Veg_menu             921 non-null    object\n",
      " 6   Non_veg_menu         921 non-null    object\n",
      " 7   Delivery_Reviews     885 non-null    object\n",
      " 8   No_Delivery_Reviews  921 non-null    object\n",
      " 9   Indexes              885 non-null    object\n",
      "dtypes: object(10)\n",
      "memory usage: 72.1+ KB\n"
     ]
    }
   ],
   "source": [
    "df.info()"
   ]
  },
  {
   "cell_type": "markdown",
   "id": "7011dd61",
   "metadata": {},
   "source": [
    "# tasks done\n",
    "### 1. removed unwanted columns \n",
    "### 2. change data types of ratings and cost\n",
    "### 3. removed all duplicated based on crusines \n",
    "### 4. convert crusines into list\n",
    "### 5. convert k into 1000 ( need to put it into new column)\n",
    "### 6. removed recomended from the and empty dicts.\n"
   ]
  },
  {
   "cell_type": "code",
   "execution_count": 38,
   "id": "4cb6e890",
   "metadata": {},
   "outputs": [
    {
     "data": {
      "text/html": [
       "<div>\n",
       "<style scoped>\n",
       "    .dataframe tbody tr th:only-of-type {\n",
       "        vertical-align: middle;\n",
       "    }\n",
       "\n",
       "    .dataframe tbody tr th {\n",
       "        vertical-align: top;\n",
       "    }\n",
       "\n",
       "    .dataframe thead th {\n",
       "        text-align: right;\n",
       "    }\n",
       "</style>\n",
       "<table border=\"1\" class=\"dataframe\">\n",
       "  <thead>\n",
       "    <tr style=\"text-align: right;\">\n",
       "      <th></th>\n",
       "      <th>links</th>\n",
       "      <th>names</th>\n",
       "      <th>ratings</th>\n",
       "      <th>price for one</th>\n",
       "      <th>crusines</th>\n",
       "      <th>Veg_menu</th>\n",
       "      <th>Non_veg_menu</th>\n",
       "      <th>Delivery_Reviews</th>\n",
       "      <th>No_Delivery_Reviews</th>\n",
       "      <th>Indexes</th>\n",
       "    </tr>\n",
       "  </thead>\n",
       "  <tbody>\n",
       "    <tr>\n",
       "      <th>0</th>\n",
       "      <td>https://www.zomato.com/bangalore/big-bowl-comp...</td>\n",
       "      <td>Big Bowl Company</td>\n",
       "      <td>3.9</td>\n",
       "      <td>200</td>\n",
       "      <td>[North Indian, Chinese, Biryani]</td>\n",
       "      <td>{'Chef's Specials': {'Fried Pizza Momo (5 Pcs)...</td>\n",
       "      <td>{'Chef's Specials': {'Spicy Butter Chicken Ric...</td>\n",
       "      <td>3.9</td>\n",
       "      <td>29</td>\n",
       "      <td>False</td>\n",
       "    </tr>\n",
       "    <tr>\n",
       "      <th>1</th>\n",
       "      <td>https://www.zomato.com/bangalore/freshmenu-ric...</td>\n",
       "      <td>FreshMenu</td>\n",
       "      <td>3.8</td>\n",
       "      <td>200</td>\n",
       "      <td>[Continental, North Indian, Biryani]</td>\n",
       "      <td>{'Today's Exclusive Dishes': {'Junglee Paneer ...</td>\n",
       "      <td>{'Today's Exclusive Dishes': {'Cheesy Meatball...</td>\n",
       "      <td>3.8</td>\n",
       "      <td>16K</td>\n",
       "      <td>True</td>\n",
       "    </tr>\n",
       "    <tr>\n",
       "      <th>2</th>\n",
       "      <td>https://www.zomato.com/bangalore/smoor-koraman...</td>\n",
       "      <td>SMOOR</td>\n",
       "      <td>4.4</td>\n",
       "      <td>200</td>\n",
       "      <td>[Italian, Cafe, Pizza, Fast Food, Thai, Desser...</td>\n",
       "      <td>{'Breakfast': {'Bircher Muesli': [0, 1, 0]}, '...</td>\n",
       "      <td>{'Breakfast': {'Brioche French Toast': [0, 0, ...</td>\n",
       "      <td>4.4</td>\n",
       "      <td>1,830</td>\n",
       "      <td>False</td>\n",
       "    </tr>\n",
       "    <tr>\n",
       "      <th>3</th>\n",
       "      <td>https://www.zomato.com/bangalore/leon-grill-st...</td>\n",
       "      <td>Leon Grill</td>\n",
       "      <td>4.2</td>\n",
       "      <td>200</td>\n",
       "      <td>[Burger, Wraps, Fast Food, Beverages]</td>\n",
       "      <td>{'Leon Burgers': {'Veggie Jumbo Burger': [0, 0...</td>\n",
       "      <td>{'Leon Burgers': {'Mini Chicken Fillet Burger'...</td>\n",
       "      <td>4.2</td>\n",
       "      <td>14.2K</td>\n",
       "      <td>True</td>\n",
       "    </tr>\n",
       "    <tr>\n",
       "      <th>4</th>\n",
       "      <td>https://www.zomato.com/bangalore/falahaar-kota...</td>\n",
       "      <td>Falahaar &amp; Kota Kachori</td>\n",
       "      <td>4.0</td>\n",
       "      <td>200</td>\n",
       "      <td>[Rajasthani, Fast Food, Street Food, Mithai]</td>\n",
       "      <td>{'Snacks': {'Kota Kachori Piece': [0, 0, 1], '...</td>\n",
       "      <td>{'Snacks': {}, 'Desserts': {}, 'Main Course': ...</td>\n",
       "      <td>4.0</td>\n",
       "      <td>1,918</td>\n",
       "      <td>False</td>\n",
       "    </tr>\n",
       "    <tr>\n",
       "      <th>...</th>\n",
       "      <td>...</td>\n",
       "      <td>...</td>\n",
       "      <td>...</td>\n",
       "      <td>...</td>\n",
       "      <td>...</td>\n",
       "      <td>...</td>\n",
       "      <td>...</td>\n",
       "      <td>...</td>\n",
       "      <td>...</td>\n",
       "      <td>...</td>\n",
       "    </tr>\n",
       "    <tr>\n",
       "      <th>821</th>\n",
       "      <td>https://www.zomato.com/bangalore/yauatcha-mg-r...</td>\n",
       "      <td>Yauatcha</td>\n",
       "      <td>4.3</td>\n",
       "      <td>100</td>\n",
       "      <td>[Chinese, Asian]</td>\n",
       "      <td>{'Soups': {'Vegetarian Sweet Corn Soup': [0, 0...</td>\n",
       "      <td>{'Soups': {'Chicken Sweet Corn Soup': [0, 0, 0...</td>\n",
       "      <td>4.3</td>\n",
       "      <td>98</td>\n",
       "      <td>False</td>\n",
       "    </tr>\n",
       "    <tr>\n",
       "      <th>822</th>\n",
       "      <td>https://www.zomato.com/bangalore/delhi-highway...</td>\n",
       "      <td>Delhi Highway</td>\n",
       "      <td>4.0</td>\n",
       "      <td>100</td>\n",
       "      <td>[Modern Indian, North Indian, Mughlai]</td>\n",
       "      <td>{'Mithai by Kilo': {'Jalebi With Rabdi': [0, 0...</td>\n",
       "      <td>{'Mithai by Kilo': {}, 'Delhi Highway Combos':...</td>\n",
       "      <td>3.9</td>\n",
       "      <td>3,615</td>\n",
       "      <td>False</td>\n",
       "    </tr>\n",
       "    <tr>\n",
       "      <th>823</th>\n",
       "      <td>https://www.zomato.com/bangalore/raidan-restau...</td>\n",
       "      <td>Raidan Restaurant</td>\n",
       "      <td>4.0</td>\n",
       "      <td>100</td>\n",
       "      <td>[Arabian, Chinese, Fast Food, North Indian, So...</td>\n",
       "      <td>{'Meals': {}, 'Soups and Salads': {'Veg Hansoo...</td>\n",
       "      <td>{'Meals': {'Chicken Hot Peal Meal': [0, 0, 0],...</td>\n",
       "      <td>4.0</td>\n",
       "      <td>575</td>\n",
       "      <td>False</td>\n",
       "    </tr>\n",
       "    <tr>\n",
       "      <th>824</th>\n",
       "      <td>https://www.zomato.com/bangalore/s-m-v-snacks-...</td>\n",
       "      <td>S M V Snacks Corner</td>\n",
       "      <td>4.3</td>\n",
       "      <td>100</td>\n",
       "      <td>[Desserts, Chinese, Fast Food]</td>\n",
       "      <td>{'Chinese': {'Manchurian': [0, 0, 0], 'Chilli ...</td>\n",
       "      <td>{'Chinese': {}, 'Fried Rice and Noodles': {}, ...</td>\n",
       "      <td>4.3</td>\n",
       "      <td>255</td>\n",
       "      <td>False</td>\n",
       "    </tr>\n",
       "    <tr>\n",
       "      <th>825</th>\n",
       "      <td>https://www.zomato.com/bangalore/brahmins-that...</td>\n",
       "      <td>Brahmin's Thatte Idli</td>\n",
       "      <td>3.9</td>\n",
       "      <td>100</td>\n",
       "      <td>[South Indian]</td>\n",
       "      <td>{'Idli': {'Brahmins Thatte Idli [1 Piece]': [1...</td>\n",
       "      <td>{'Idli': {}, 'Combo': {}, 'Dosa': {}, 'Bhath':...</td>\n",
       "      <td>3.9</td>\n",
       "      <td>60</td>\n",
       "      <td>False</td>\n",
       "    </tr>\n",
       "  </tbody>\n",
       "</table>\n",
       "<p>826 rows × 10 columns</p>\n",
       "</div>"
      ],
      "text/plain": [
       "                                                 links  \\\n",
       "0    https://www.zomato.com/bangalore/big-bowl-comp...   \n",
       "1    https://www.zomato.com/bangalore/freshmenu-ric...   \n",
       "2    https://www.zomato.com/bangalore/smoor-koraman...   \n",
       "3    https://www.zomato.com/bangalore/leon-grill-st...   \n",
       "4    https://www.zomato.com/bangalore/falahaar-kota...   \n",
       "..                                                 ...   \n",
       "821  https://www.zomato.com/bangalore/yauatcha-mg-r...   \n",
       "822  https://www.zomato.com/bangalore/delhi-highway...   \n",
       "823  https://www.zomato.com/bangalore/raidan-restau...   \n",
       "824  https://www.zomato.com/bangalore/s-m-v-snacks-...   \n",
       "825  https://www.zomato.com/bangalore/brahmins-that...   \n",
       "\n",
       "                       names ratings price for one  \\\n",
       "0           Big Bowl Company     3.9           200   \n",
       "1                  FreshMenu     3.8           200   \n",
       "2                      SMOOR     4.4           200   \n",
       "3                 Leon Grill     4.2           200   \n",
       "4    Falahaar & Kota Kachori     4.0           200   \n",
       "..                       ...     ...           ...   \n",
       "821                 Yauatcha     4.3           100   \n",
       "822            Delhi Highway     4.0           100   \n",
       "823        Raidan Restaurant     4.0           100   \n",
       "824      S M V Snacks Corner     4.3           100   \n",
       "825    Brahmin's Thatte Idli     3.9           100   \n",
       "\n",
       "                                              crusines  \\\n",
       "0                     [North Indian, Chinese, Biryani]   \n",
       "1                 [Continental, North Indian, Biryani]   \n",
       "2    [Italian, Cafe, Pizza, Fast Food, Thai, Desser...   \n",
       "3                [Burger, Wraps, Fast Food, Beverages]   \n",
       "4         [Rajasthani, Fast Food, Street Food, Mithai]   \n",
       "..                                                 ...   \n",
       "821                                   [Chinese, Asian]   \n",
       "822             [Modern Indian, North Indian, Mughlai]   \n",
       "823  [Arabian, Chinese, Fast Food, North Indian, So...   \n",
       "824                     [Desserts, Chinese, Fast Food]   \n",
       "825                                     [South Indian]   \n",
       "\n",
       "                                              Veg_menu  \\\n",
       "0    {'Chef's Specials': {'Fried Pizza Momo (5 Pcs)...   \n",
       "1    {'Today's Exclusive Dishes': {'Junglee Paneer ...   \n",
       "2    {'Breakfast': {'Bircher Muesli': [0, 1, 0]}, '...   \n",
       "3    {'Leon Burgers': {'Veggie Jumbo Burger': [0, 0...   \n",
       "4    {'Snacks': {'Kota Kachori Piece': [0, 0, 1], '...   \n",
       "..                                                 ...   \n",
       "821  {'Soups': {'Vegetarian Sweet Corn Soup': [0, 0...   \n",
       "822  {'Mithai by Kilo': {'Jalebi With Rabdi': [0, 0...   \n",
       "823  {'Meals': {}, 'Soups and Salads': {'Veg Hansoo...   \n",
       "824  {'Chinese': {'Manchurian': [0, 0, 0], 'Chilli ...   \n",
       "825  {'Idli': {'Brahmins Thatte Idli [1 Piece]': [1...   \n",
       "\n",
       "                                          Non_veg_menu Delivery_Reviews  \\\n",
       "0    {'Chef's Specials': {'Spicy Butter Chicken Ric...              3.9   \n",
       "1    {'Today's Exclusive Dishes': {'Cheesy Meatball...              3.8   \n",
       "2    {'Breakfast': {'Brioche French Toast': [0, 0, ...              4.4   \n",
       "3    {'Leon Burgers': {'Mini Chicken Fillet Burger'...              4.2   \n",
       "4    {'Snacks': {}, 'Desserts': {}, 'Main Course': ...              4.0   \n",
       "..                                                 ...              ...   \n",
       "821  {'Soups': {'Chicken Sweet Corn Soup': [0, 0, 0...              4.3   \n",
       "822  {'Mithai by Kilo': {}, 'Delhi Highway Combos':...              3.9   \n",
       "823  {'Meals': {'Chicken Hot Peal Meal': [0, 0, 0],...              4.0   \n",
       "824  {'Chinese': {}, 'Fried Rice and Noodles': {}, ...              4.3   \n",
       "825  {'Idli': {}, 'Combo': {}, 'Dosa': {}, 'Bhath':...              3.9   \n",
       "\n",
       "    No_Delivery_Reviews Indexes  \n",
       "0                    29   False  \n",
       "1                   16K    True  \n",
       "2                 1,830   False  \n",
       "3                 14.2K    True  \n",
       "4                 1,918   False  \n",
       "..                  ...     ...  \n",
       "821                  98   False  \n",
       "822               3,615   False  \n",
       "823                 575   False  \n",
       "824                 255   False  \n",
       "825                  60   False  \n",
       "\n",
       "[826 rows x 10 columns]"
      ]
     },
     "execution_count": 38,
     "metadata": {},
     "output_type": "execute_result"
    }
   ],
   "source": [
    "df"
   ]
  },
  {
   "cell_type": "code",
   "execution_count": null,
   "id": "078b9576",
   "metadata": {},
   "outputs": [],
   "source": []
  },
  {
   "cell_type": "code",
   "execution_count": null,
   "id": "716177c7",
   "metadata": {},
   "outputs": [],
   "source": []
  }
 ],
 "metadata": {
  "kernelspec": {
   "display_name": "Python 3",
   "language": "python",
   "name": "python3"
  },
  "language_info": {
   "codemirror_mode": {
    "name": "ipython",
    "version": 3
   },
   "file_extension": ".py",
   "mimetype": "text/x-python",
   "name": "python",
   "nbconvert_exporter": "python",
   "pygments_lexer": "ipython3",
   "version": "3.8.8"
  }
 },
 "nbformat": 4,
 "nbformat_minor": 5
}
